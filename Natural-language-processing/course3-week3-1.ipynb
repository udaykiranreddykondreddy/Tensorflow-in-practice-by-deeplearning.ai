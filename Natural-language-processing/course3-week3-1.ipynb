{
  "nbformat": 4,
  "nbformat_minor": 0,
  "metadata": {
    "colab": {
      "name": "Course 3 - Week 3 - Lesson 2c.ipynb",
      "provenance": [],
      "collapsed_sections": [],
      "include_colab_link": true
    },
    "kernelspec": {
      "name": "python3",
      "display_name": "Python 3"
    },
    "accelerator": "GPU"
  },
  "cells": [
    {
      "cell_type": "markdown",
      "metadata": {
        "id": "view-in-github",
        "colab_type": "text"
      },
      "source": [
        "<a href=\"https://colab.research.google.com/github/udaykiranreddykondreddy/Tensorflow-in-practice-by-deeplearning.ai/blob/master/course3-week3-1.ipynb\" target=\"_parent\"><img src=\"https://colab.research.google.com/assets/colab-badge.svg\" alt=\"Open In Colab\"/></a>"
      ]
    },
    {
      "cell_type": "code",
      "metadata": {
        "id": "jGwXGIXvFhXW",
        "colab_type": "code",
        "colab": {
          "base_uri": "https://localhost:8080/",
          "height": 1000
        },
        "outputId": "78498773-cb86-4a7e-a237-9a203ba4408f"
      },
      "source": [
        "import json\n",
        "import tensorflow as tf\n",
        "\n",
        "from tensorflow.keras.preprocessing.text import Tokenizer\n",
        "from tensorflow.keras.preprocessing.sequence import pad_sequences\n",
        "\n",
        "!wget --no-check-certificate \\\n",
        "    https://storage.googleapis.com/laurencemoroney-blog.appspot.com/sarcasm.json \\\n",
        "    -O /tmp/sarcasm.json\n",
        "\n",
        "vocab_size = 1000\n",
        "embedding_dim = 16\n",
        "max_length = 120\n",
        "trunc_type='post'\n",
        "padding_type='post'\n",
        "oov_tok = \"<OOV>\"\n",
        "training_size = 20000\n",
        "\n",
        "\n",
        "with open(\"/tmp/sarcasm.json\", 'r') as f:\n",
        "    datastore = json.load(f)\n",
        "\n",
        "\n",
        "sentences = []\n",
        "labels = []\n",
        "urls = []\n",
        "for item in datastore:\n",
        "    sentences.append(item['headline'])\n",
        "    labels.append(item['is_sarcastic'])\n",
        "\n",
        "training_sentences = sentences[0:training_size]\n",
        "testing_sentences = sentences[training_size:]\n",
        "training_labels = labels[0:training_size]\n",
        "testing_labels = labels[training_size:]\n",
        "\n",
        "tokenizer = Tokenizer(num_words=vocab_size, oov_token=oov_tok)\n",
        "tokenizer.fit_on_texts(training_sentences)\n",
        "\n",
        "word_index = tokenizer.word_index\n",
        "\n",
        "training_sequences = tokenizer.texts_to_sequences(training_sentences)\n",
        "training_padded = pad_sequences(training_sequences, maxlen=max_length, padding=padding_type, truncating=trunc_type)\n",
        "\n",
        "testing_sequences = tokenizer.texts_to_sequences(testing_sentences)\n",
        "testing_padded = pad_sequences(testing_sequences, maxlen=max_length, padding=padding_type, truncating=trunc_type)\n",
        "\n",
        "model = tf.keras.Sequential([\n",
        "    tf.keras.layers.Embedding(vocab_size, embedding_dim, input_length=max_length),\n",
        "    tf.keras.layers.Conv1D(128, 5, activation='relu'),\n",
        "    tf.keras.layers.GlobalMaxPooling1D(),\n",
        "    tf.keras.layers.Dense(24, activation='relu'),\n",
        "    tf.keras.layers.Dense(1, activation='sigmoid')\n",
        "])\n",
        "model.compile(loss='binary_crossentropy',optimizer='adam',metrics=['accuracy'])\n",
        "model.summary()\n",
        "\n",
        "num_epochs = 50\n",
        "history = model.fit(training_padded, training_labels, epochs=num_epochs, validation_data=(testing_padded, testing_labels), verbose=1)\n",
        "\n"
      ],
      "execution_count": 1,
      "outputs": [
        {
          "output_type": "display_data",
          "data": {
            "text/html": [
              "<p style=\"color: red;\">\n",
              "The default version of TensorFlow in Colab will soon switch to TensorFlow 2.x.<br>\n",
              "We recommend you <a href=\"https://www.tensorflow.org/guide/migrate\" target=\"_blank\">upgrade</a> now \n",
              "or ensure your notebook will continue to use TensorFlow 1.x via the <code>%tensorflow_version 1.x</code> magic:\n",
              "<a href=\"https://colab.research.google.com/notebooks/tensorflow_version.ipynb\" target=\"_blank\">more info</a>.</p>\n"
            ],
            "text/plain": [
              "<IPython.core.display.HTML object>"
            ]
          },
          "metadata": {
            "tags": []
          }
        },
        {
          "output_type": "stream",
          "text": [
            "--2019-12-06 08:41:21--  https://storage.googleapis.com/laurencemoroney-blog.appspot.com/sarcasm.json\n",
            "Resolving storage.googleapis.com (storage.googleapis.com)... 64.233.167.128, 2a00:1450:400c:c0b::80\n",
            "Connecting to storage.googleapis.com (storage.googleapis.com)|64.233.167.128|:443... connected.\n",
            "HTTP request sent, awaiting response... 200 OK\n",
            "Length: 5643545 (5.4M) [application/json]\n",
            "Saving to: ‘/tmp/sarcasm.json’\n",
            "\n",
            "\r/tmp/sarcasm.json     0%[                    ]       0  --.-KB/s               \r/tmp/sarcasm.json   100%[===================>]   5.38M  --.-KB/s    in 0.04s   \n",
            "\n",
            "2019-12-06 08:41:21 (136 MB/s) - ‘/tmp/sarcasm.json’ saved [5643545/5643545]\n",
            "\n",
            "WARNING:tensorflow:From /usr/local/lib/python3.6/dist-packages/tensorflow_core/python/keras/initializers.py:119: calling RandomUniform.__init__ (from tensorflow.python.ops.init_ops) with dtype is deprecated and will be removed in a future version.\n",
            "Instructions for updating:\n",
            "Call initializer instance with the dtype argument instead of passing it to the constructor\n",
            "WARNING:tensorflow:From /usr/local/lib/python3.6/dist-packages/tensorflow_core/python/ops/resource_variable_ops.py:1630: calling BaseResourceVariable.__init__ (from tensorflow.python.ops.resource_variable_ops) with constraint is deprecated and will be removed in a future version.\n",
            "Instructions for updating:\n",
            "If using Keras pass *_constraint arguments to layers.\n",
            "WARNING:tensorflow:From /usr/local/lib/python3.6/dist-packages/tensorflow_core/python/ops/nn_impl.py:183: where (from tensorflow.python.ops.array_ops) is deprecated and will be removed in a future version.\n",
            "Instructions for updating:\n",
            "Use tf.where in 2.0, which has the same broadcast rule as np.where\n",
            "Model: \"sequential\"\n",
            "_________________________________________________________________\n",
            "Layer (type)                 Output Shape              Param #   \n",
            "=================================================================\n",
            "embedding (Embedding)        (None, 120, 16)           16000     \n",
            "_________________________________________________________________\n",
            "conv1d (Conv1D)              (None, 116, 128)          10368     \n",
            "_________________________________________________________________\n",
            "global_max_pooling1d (Global (None, 128)               0         \n",
            "_________________________________________________________________\n",
            "dense (Dense)                (None, 24)                3096      \n",
            "_________________________________________________________________\n",
            "dense_1 (Dense)              (None, 1)                 25        \n",
            "=================================================================\n",
            "Total params: 29,489\n",
            "Trainable params: 29,489\n",
            "Non-trainable params: 0\n",
            "_________________________________________________________________\n",
            "Train on 20000 samples, validate on 6709 samples\n",
            "Epoch 1/50\n",
            "20000/20000 [==============================] - 7s 355us/sample - loss: 0.4721 - acc: 0.7628 - val_loss: 0.4091 - val_acc: 0.8125\n",
            "Epoch 2/50\n",
            "20000/20000 [==============================] - 4s 187us/sample - loss: 0.3595 - acc: 0.8389 - val_loss: 0.3874 - val_acc: 0.8262\n",
            "Epoch 3/50\n",
            "20000/20000 [==============================] - 4s 191us/sample - loss: 0.3208 - acc: 0.8576 - val_loss: 0.3959 - val_acc: 0.8229\n",
            "Epoch 4/50\n",
            "20000/20000 [==============================] - 4s 193us/sample - loss: 0.2854 - acc: 0.8763 - val_loss: 0.4043 - val_acc: 0.8246\n",
            "Epoch 5/50\n",
            "20000/20000 [==============================] - 4s 191us/sample - loss: 0.2517 - acc: 0.8963 - val_loss: 0.4304 - val_acc: 0.8173\n",
            "Epoch 6/50\n",
            "20000/20000 [==============================] - 4s 190us/sample - loss: 0.2203 - acc: 0.9100 - val_loss: 0.4625 - val_acc: 0.8147\n",
            "Epoch 7/50\n",
            "20000/20000 [==============================] - 4s 190us/sample - loss: 0.1853 - acc: 0.9272 - val_loss: 0.5409 - val_acc: 0.8019\n",
            "Epoch 8/50\n",
            "20000/20000 [==============================] - 4s 192us/sample - loss: 0.1581 - acc: 0.9402 - val_loss: 0.5586 - val_acc: 0.8019\n",
            "Epoch 9/50\n",
            "20000/20000 [==============================] - 4s 191us/sample - loss: 0.1322 - acc: 0.9519 - val_loss: 0.6815 - val_acc: 0.8024\n",
            "Epoch 10/50\n",
            "20000/20000 [==============================] - 4s 195us/sample - loss: 0.1095 - acc: 0.9610 - val_loss: 0.6969 - val_acc: 0.7919\n",
            "Epoch 11/50\n",
            "20000/20000 [==============================] - 4s 201us/sample - loss: 0.0923 - acc: 0.9664 - val_loss: 0.7971 - val_acc: 0.7951\n",
            "Epoch 12/50\n",
            "20000/20000 [==============================] - 4s 196us/sample - loss: 0.0784 - acc: 0.9729 - val_loss: 0.8594 - val_acc: 0.7964\n",
            "Epoch 13/50\n",
            "20000/20000 [==============================] - 4s 190us/sample - loss: 0.0658 - acc: 0.9777 - val_loss: 0.9601 - val_acc: 0.7945\n",
            "Epoch 14/50\n",
            "20000/20000 [==============================] - 4s 189us/sample - loss: 0.0592 - acc: 0.9797 - val_loss: 1.0828 - val_acc: 0.7939\n",
            "Epoch 15/50\n",
            "20000/20000 [==============================] - 4s 190us/sample - loss: 0.0566 - acc: 0.9805 - val_loss: 1.1125 - val_acc: 0.7936\n",
            "Epoch 16/50\n",
            "20000/20000 [==============================] - 4s 190us/sample - loss: 0.0489 - acc: 0.9830 - val_loss: 1.2121 - val_acc: 0.7971\n",
            "Epoch 17/50\n",
            "20000/20000 [==============================] - 4s 190us/sample - loss: 0.0450 - acc: 0.9849 - val_loss: 1.2752 - val_acc: 0.7951\n",
            "Epoch 18/50\n",
            "20000/20000 [==============================] - 4s 186us/sample - loss: 0.0412 - acc: 0.9845 - val_loss: 1.3378 - val_acc: 0.7945\n",
            "Epoch 19/50\n",
            "20000/20000 [==============================] - 4s 191us/sample - loss: 0.0443 - acc: 0.9833 - val_loss: 1.4209 - val_acc: 0.7949\n",
            "Epoch 20/50\n",
            "20000/20000 [==============================] - 4s 188us/sample - loss: 0.0412 - acc: 0.9852 - val_loss: 1.4219 - val_acc: 0.7951\n",
            "Epoch 21/50\n",
            "20000/20000 [==============================] - 4s 191us/sample - loss: 0.0363 - acc: 0.9860 - val_loss: 1.4488 - val_acc: 0.7864\n",
            "Epoch 22/50\n",
            "20000/20000 [==============================] - 4s 188us/sample - loss: 0.0333 - acc: 0.9869 - val_loss: 1.5030 - val_acc: 0.7913\n",
            "Epoch 23/50\n",
            "20000/20000 [==============================] - 4s 190us/sample - loss: 0.0329 - acc: 0.9873 - val_loss: 1.6067 - val_acc: 0.7892\n",
            "Epoch 24/50\n",
            "20000/20000 [==============================] - 4s 188us/sample - loss: 0.0304 - acc: 0.9886 - val_loss: 1.6546 - val_acc: 0.7898\n",
            "Epoch 25/50\n",
            "20000/20000 [==============================] - 4s 188us/sample - loss: 0.0323 - acc: 0.9875 - val_loss: 1.6974 - val_acc: 0.7877\n",
            "Epoch 26/50\n",
            "20000/20000 [==============================] - 4s 190us/sample - loss: 0.0373 - acc: 0.9853 - val_loss: 1.6518 - val_acc: 0.7885\n",
            "Epoch 27/50\n",
            "20000/20000 [==============================] - 4s 190us/sample - loss: 0.0314 - acc: 0.9874 - val_loss: 1.7502 - val_acc: 0.7934\n",
            "Epoch 28/50\n",
            "20000/20000 [==============================] - 4s 187us/sample - loss: 0.0276 - acc: 0.9887 - val_loss: 1.7341 - val_acc: 0.7939\n",
            "Epoch 29/50\n",
            "20000/20000 [==============================] - 4s 188us/sample - loss: 0.0260 - acc: 0.9896 - val_loss: 1.8728 - val_acc: 0.7918\n",
            "Epoch 30/50\n",
            "20000/20000 [==============================] - 4s 191us/sample - loss: 0.0251 - acc: 0.9905 - val_loss: 1.8736 - val_acc: 0.7895\n",
            "Epoch 31/50\n",
            "20000/20000 [==============================] - 4s 191us/sample - loss: 0.0301 - acc: 0.9882 - val_loss: 1.8763 - val_acc: 0.7845\n",
            "Epoch 32/50\n",
            "20000/20000 [==============================] - 4s 188us/sample - loss: 0.0296 - acc: 0.9882 - val_loss: 1.8140 - val_acc: 0.7885\n",
            "Epoch 33/50\n",
            "20000/20000 [==============================] - 4s 189us/sample - loss: 0.0257 - acc: 0.9894 - val_loss: 1.9147 - val_acc: 0.7874\n",
            "Epoch 34/50\n",
            "20000/20000 [==============================] - 4s 192us/sample - loss: 0.0216 - acc: 0.9910 - val_loss: 2.0659 - val_acc: 0.7951\n",
            "Epoch 35/50\n",
            "20000/20000 [==============================] - 4s 192us/sample - loss: 0.0295 - acc: 0.9875 - val_loss: 1.9780 - val_acc: 0.7921\n",
            "Epoch 36/50\n",
            "20000/20000 [==============================] - 4s 190us/sample - loss: 0.0275 - acc: 0.9887 - val_loss: 2.0122 - val_acc: 0.7863\n",
            "Epoch 37/50\n",
            "20000/20000 [==============================] - 4s 187us/sample - loss: 0.0219 - acc: 0.9908 - val_loss: 2.1168 - val_acc: 0.7934\n",
            "Epoch 38/50\n",
            "20000/20000 [==============================] - 4s 186us/sample - loss: 0.0192 - acc: 0.9919 - val_loss: 2.2266 - val_acc: 0.7888\n",
            "Epoch 39/50\n",
            "20000/20000 [==============================] - 4s 185us/sample - loss: 0.0236 - acc: 0.9905 - val_loss: 2.0907 - val_acc: 0.7983\n",
            "Epoch 40/50\n",
            "20000/20000 [==============================] - 4s 189us/sample - loss: 0.0260 - acc: 0.9893 - val_loss: 2.2727 - val_acc: 0.7916\n",
            "Epoch 41/50\n",
            "20000/20000 [==============================] - 4s 190us/sample - loss: 0.0302 - acc: 0.9882 - val_loss: 2.1881 - val_acc: 0.7907\n",
            "Epoch 42/50\n",
            "20000/20000 [==============================] - 4s 187us/sample - loss: 0.0227 - acc: 0.9900 - val_loss: 2.1830 - val_acc: 0.7912\n",
            "Epoch 43/50\n",
            "20000/20000 [==============================] - 4s 188us/sample - loss: 0.0215 - acc: 0.9909 - val_loss: 2.1914 - val_acc: 0.7928\n",
            "Epoch 44/50\n",
            "20000/20000 [==============================] - 4s 190us/sample - loss: 0.0203 - acc: 0.9912 - val_loss: 2.3656 - val_acc: 0.7886\n",
            "Epoch 45/50\n",
            "20000/20000 [==============================] - 4s 190us/sample - loss: 0.0178 - acc: 0.9919 - val_loss: 2.4597 - val_acc: 0.7906\n",
            "Epoch 46/50\n",
            "20000/20000 [==============================] - 4s 190us/sample - loss: 0.0212 - acc: 0.9905 - val_loss: 2.3511 - val_acc: 0.7936\n",
            "Epoch 47/50\n",
            "20000/20000 [==============================] - 4s 192us/sample - loss: 0.0192 - acc: 0.9918 - val_loss: 2.4468 - val_acc: 0.7904\n",
            "Epoch 48/50\n",
            "20000/20000 [==============================] - 4s 189us/sample - loss: 0.0282 - acc: 0.9879 - val_loss: 2.3009 - val_acc: 0.7928\n",
            "Epoch 49/50\n",
            "20000/20000 [==============================] - 4s 190us/sample - loss: 0.0279 - acc: 0.9887 - val_loss: 2.3627 - val_acc: 0.7907\n",
            "Epoch 50/50\n",
            "20000/20000 [==============================] - 4s 189us/sample - loss: 0.0194 - acc: 0.9912 - val_loss: 2.5743 - val_acc: 0.7951\n"
          ],
          "name": "stdout"
        }
      ]
    },
    {
      "cell_type": "code",
      "metadata": {
        "id": "g9DC6dmLF8DC",
        "colab_type": "code",
        "colab": {
          "base_uri": "https://localhost:8080/",
          "height": 542
        },
        "outputId": "298939f0-1bea-498f-cd99-03d6a44b6028"
      },
      "source": [
        "import matplotlib.pyplot as plt\n",
        "\n",
        "\n",
        "def plot_graphs(history, string):\n",
        "  plt.plot(history.history[string])\n",
        "  plt.plot(history.history['val_'+string])\n",
        "  plt.xlabel(\"Epochs\")\n",
        "  plt.ylabel(string)\n",
        "  plt.legend([string, 'val_'+string])\n",
        "  plt.show()\n",
        "\n",
        "plot_graphs(history, 'acc')\n",
        "plot_graphs(history, 'loss')"
      ],
      "execution_count": 2,
      "outputs": [
        {
          "output_type": "display_data",
          "data": {
            "image/png": "[encoded data removed]",
            "text/plain": [
              "<Figure size 432x288 with 1 Axes>"
            ]
          },
          "metadata": {
            "tags": []
          }
        },
        {
          "output_type": "display_data",
          "data": {
            "image/png": "[encoded data removed]",
            "text/plain": [
              "<Figure size 432x288 with 1 Axes>"
            ]
          },
          "metadata": {
            "tags": []
          }
        }
      ]
    },
    {
      "cell_type": "code",
      "metadata": {
        "id": "7ZEZIUppGhdi",
        "colab_type": "code",
        "colab": {}
      },
      "source": [
        "model.save(\"test.h5\")"
      ],
      "execution_count": 0,
      "outputs": []
    }
  ]
}