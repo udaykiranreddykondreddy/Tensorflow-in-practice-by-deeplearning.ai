{
  "nbformat": 4,
  "nbformat_minor": 0,
  "metadata": {
    "colab": {
      "name": "NLP-Week4-Exercise-Shakespeare-Question.ipynb",
      "provenance": [],
      "include_colab_link": true
    },
    "kernelspec": {
      "name": "python3",
      "display_name": "Python 3"
    },
    "accelerator": "GPU"
  },
  "cells": [
    {
      "cell_type": "markdown",
      "metadata": {
        "id": "view-in-github",
        "colab_type": "text"
      },
      "source": [
        "<a href=\"https://colab.research.google.com/github/udaykiranreddykondreddy/Tensorflow-in-practice-by-deeplearning.ai/blob/master/course3-week4-assignment.ipynb\" target=\"_parent\"><img src=\"https://colab.research.google.com/assets/colab-badge.svg\" alt=\"Open In Colab\"/></a>"
      ]
    },
    {
      "cell_type": "code",
      "metadata": {
        "id": "BOwsuGQQY9OL",
        "colab_type": "code",
        "colab": {
          "base_uri": "https://localhost:8080/",
          "height": 63
        },
        "outputId": "70f46d69-fb0d-41f0-ba2e-0ad9cb76d433"
      },
      "source": [
        "from tensorflow.keras.preprocessing.sequence import pad_sequences\n",
        "from tensorflow.keras.layers import Embedding, LSTM, Dense, Dropout, Bidirectional\n",
        "from tensorflow.keras.preprocessing.text import Tokenizer\n",
        "from tensorflow.keras.models import Sequential\n",
        "from tensorflow.keras.optimizers import Adam\n",
        "### YOUR CODE HERE\n",
        "from tensorflow.keras import regularizers\n",
        "###\n",
        "import tensorflow.keras.utils as ku \n",
        "import numpy as np "
      ],
      "execution_count": 1,
      "outputs": [
        {
          "output_type": "display_data",
          "data": {
            "text/html": [
              "<p style=\"color: red;\">\n",
              "The default version of TensorFlow in Colab will soon switch to TensorFlow 2.x.<br>\n",
              "We recommend you <a href=\"https://www.tensorflow.org/guide/migrate\" target=\"_blank\">upgrade</a> now \n",
              "or ensure your notebook will continue to use TensorFlow 1.x via the <code>%tensorflow_version 1.x</code> magic:\n",
              "<a href=\"https://colab.research.google.com/notebooks/tensorflow_version.ipynb\" target=\"_blank\">more info</a>.</p>\n"
            ],
            "text/plain": [
              "<IPython.core.display.HTML object>"
            ]
          },
          "metadata": {
            "tags": []
          }
        }
      ]
    },
    {
      "cell_type": "code",
      "metadata": {
        "colab_type": "code",
        "id": "PRnDnCW-Z7qv",
        "colab": {
          "base_uri": "https://localhost:8080/",
          "height": 204
        },
        "outputId": "b6a343ce-45f5-4c42-a1c3-c0ced33c46f7"
      },
      "source": [
        "tokenizer = Tokenizer()\n",
        "!wget --no-check-certificate \\\n",
        "    https://storage.googleapis.com/laurencemoroney-blog.appspot.com/sonnets.txt \\\n",
        "    -O /tmp/sonnets.txt\n",
        "data = open('/tmp/sonnets.txt').read()\n",
        "\n",
        "corpus = data.lower().split(\"\\n\")\n",
        "\n",
        "\n",
        "tokenizer.fit_on_texts(corpus)\n",
        "total_words = len(tokenizer.word_index) + 1\n",
        "\n",
        "# create input sequences using list of tokens\n",
        "input_sequences = []\n",
        "for line in corpus:\n",
        "\ttoken_list = tokenizer.texts_to_sequences([line])[0]\n",
        "\tfor i in range(1, len(token_list)):\n",
        "\t\tn_gram_sequence = token_list[:i+1]\n",
        "\t\tinput_sequences.append(n_gram_sequence)\n",
        "\n",
        "\n",
        "# pad sequences \n",
        "max_sequence_len = max([len(x) for x in input_sequences])\n",
        "input_sequences = np.array(pad_sequences(input_sequences, maxlen=max_sequence_len, padding='pre'))\n",
        "\n",
        "# create predictors and label\n",
        "predictors, label = input_sequences[:,:-1],input_sequences[:,-1]\n",
        "\n",
        "label = ku.to_categorical(label, num_classes=total_words)"
      ],
      "execution_count": 2,
      "outputs": [
        {
          "output_type": "stream",
          "text": [
            "--2019-12-11 10:35:52--  https://storage.googleapis.com/laurencemoroney-blog.appspot.com/sonnets.txt\n",
            "Resolving storage.googleapis.com (storage.googleapis.com)... 74.125.142.128, 2607:f8b0:400e:c08::80\n",
            "Connecting to storage.googleapis.com (storage.googleapis.com)|74.125.142.128|:443... connected.\n",
            "HTTP request sent, awaiting response... 200 OK\n",
            "Length: 93578 (91K) [text/plain]\n",
            "Saving to: ‘/tmp/sonnets.txt’\n",
            "\n",
            "\r/tmp/sonnets.txt      0%[                    ]       0  --.-KB/s               \r/tmp/sonnets.txt    100%[===================>]  91.38K  --.-KB/s    in 0s      \n",
            "\n",
            "2019-12-11 10:35:52 (180 MB/s) - ‘/tmp/sonnets.txt’ saved [93578/93578]\n",
            "\n"
          ],
          "name": "stdout"
        }
      ]
    },
    {
      "cell_type": "code",
      "metadata": {
        "id": "w9vH8Y59ajYL",
        "colab_type": "code",
        "colab": {
          "base_uri": "https://localhost:8080/",
          "height": 649
        },
        "outputId": "ce196bc8-4b3d-4d9b-c71d-e590c71148e2"
      },
      "source": [
        "model = Sequential()\n",
        "model.add(Embedding(total_words, 100, input_length=max_sequence_len-1))\n",
        "model.add(Bidirectional(LSTM(150, return_sequences = True)))\n",
        "model.add(Dropout(0.2))\n",
        "model.add(LSTM(100))\n",
        "model.add(Dense(total_words/2, activation='relu', kernel_regularizer=regularizers.l2(0.01)))\n",
        "model.add(Dense(total_words, activation='softmax'))\n",
        "model.compile(loss='categorical_crossentropy', optimizer='adam', metrics=['accuracy'])\n",
        "print(model.summary())"
      ],
      "execution_count": 3,
      "outputs": [
        {
          "output_type": "stream",
          "text": [
            "WARNING:tensorflow:From /usr/local/lib/python3.6/dist-packages/tensorflow_core/python/keras/initializers.py:119: calling RandomUniform.__init__ (from tensorflow.python.ops.init_ops) with dtype is deprecated and will be removed in a future version.\n",
            "Instructions for updating:\n",
            "Call initializer instance with the dtype argument instead of passing it to the constructor\n",
            "WARNING:tensorflow:From /usr/local/lib/python3.6/dist-packages/tensorflow_core/python/ops/resource_variable_ops.py:1630: calling BaseResourceVariable.__init__ (from tensorflow.python.ops.resource_variable_ops) with constraint is deprecated and will be removed in a future version.\n",
            "Instructions for updating:\n",
            "If using Keras pass *_constraint arguments to layers.\n",
            "WARNING:tensorflow:From /usr/local/lib/python3.6/dist-packages/tensorflow_core/python/ops/init_ops.py:97: calling GlorotUniform.__init__ (from tensorflow.python.ops.init_ops) with dtype is deprecated and will be removed in a future version.\n",
            "Instructions for updating:\n",
            "Call initializer instance with the dtype argument instead of passing it to the constructor\n",
            "WARNING:tensorflow:From /usr/local/lib/python3.6/dist-packages/tensorflow_core/python/ops/init_ops.py:97: calling Orthogonal.__init__ (from tensorflow.python.ops.init_ops) with dtype is deprecated and will be removed in a future version.\n",
            "Instructions for updating:\n",
            "Call initializer instance with the dtype argument instead of passing it to the constructor\n",
            "WARNING:tensorflow:From /usr/local/lib/python3.6/dist-packages/tensorflow_core/python/ops/init_ops.py:97: calling Zeros.__init__ (from tensorflow.python.ops.init_ops) with dtype is deprecated and will be removed in a future version.\n",
            "Instructions for updating:\n",
            "Call initializer instance with the dtype argument instead of passing it to the constructor\n",
            "Model: \"sequential\"\n",
            "_________________________________________________________________\n",
            "Layer (type)                 Output Shape              Param #   \n",
            "=================================================================\n",
            "embedding (Embedding)        (None, 10, 100)           321100    \n",
            "_________________________________________________________________\n",
            "bidirectional (Bidirectional (None, 10, 300)           301200    \n",
            "_________________________________________________________________\n",
            "dropout (Dropout)            (None, 10, 300)           0         \n",
            "_________________________________________________________________\n",
            "lstm_1 (LSTM)                (None, 100)               160400    \n",
            "_________________________________________________________________\n",
            "dense (Dense)                (None, 1605)              162105    \n",
            "_________________________________________________________________\n",
            "dense_1 (Dense)              (None, 3211)              5156866   \n",
            "=================================================================\n",
            "Total params: 6,101,671\n",
            "Trainable params: 6,101,671\n",
            "Non-trainable params: 0\n",
            "_________________________________________________________________\n",
            "None\n"
          ],
          "name": "stdout"
        }
      ]
    },
    {
      "cell_type": "code",
      "metadata": {
        "id": "AIg2f1HBxqof",
        "colab_type": "code",
        "colab": {
          "base_uri": "https://localhost:8080/",
          "height": 1000
        },
        "outputId": "f344b828-e5f4-4aa4-8397-cd346a68dfb9"
      },
      "source": [
        " history = model.fit(predictors, label, epochs=100, verbose=1)"
      ],
      "execution_count": 4,
      "outputs": [
        {
          "output_type": "stream",
          "text": [
            "WARNING:tensorflow:From /usr/local/lib/python3.6/dist-packages/tensorflow_core/python/ops/math_grad.py:1424: where (from tensorflow.python.ops.array_ops) is deprecated and will be removed in a future version.\n",
            "Instructions for updating:\n",
            "Use tf.where in 2.0, which has the same broadcast rule as np.where\n",
            "Train on 15462 samples\n",
            "Epoch 1/100\n",
            "15462/15462 [==============================] - 21s 1ms/sample - loss: 6.9059 - acc: 0.0217\n",
            "Epoch 2/100\n",
            "15462/15462 [==============================] - 19s 1ms/sample - loss: 6.4980 - acc: 0.0226\n",
            "Epoch 3/100\n",
            "15462/15462 [==============================] - 19s 1ms/sample - loss: 6.3824 - acc: 0.0257\n",
            "Epoch 4/100\n",
            "15462/15462 [==============================] - 20s 1ms/sample - loss: 6.2565 - acc: 0.0298\n",
            "Epoch 5/100\n",
            "15462/15462 [==============================] - 19s 1ms/sample - loss: 6.1614 - acc: 0.0356\n",
            "Epoch 6/100\n",
            "15462/15462 [==============================] - 20s 1ms/sample - loss: 6.0699 - acc: 0.0397\n",
            "Epoch 7/100\n",
            "15462/15462 [==============================] - 20s 1ms/sample - loss: 5.9902 - acc: 0.0435\n",
            "Epoch 8/100\n",
            "15462/15462 [==============================] - 19s 1ms/sample - loss: 5.8968 - acc: 0.0455\n",
            "Epoch 9/100\n",
            "15462/15462 [==============================] - 20s 1ms/sample - loss: 5.7965 - acc: 0.0545\n",
            "Epoch 10/100\n",
            "15462/15462 [==============================] - 19s 1ms/sample - loss: 5.6826 - acc: 0.0623\n",
            "Epoch 11/100\n",
            "15462/15462 [==============================] - 19s 1ms/sample - loss: 5.5681 - acc: 0.0702\n",
            "Epoch 12/100\n",
            "15462/15462 [==============================] - 19s 1ms/sample - loss: 5.4581 - acc: 0.0748\n",
            "Epoch 13/100\n",
            "15462/15462 [==============================] - 19s 1ms/sample - loss: 5.3547 - acc: 0.0819\n",
            "Epoch 14/100\n",
            "15462/15462 [==============================] - 19s 1ms/sample - loss: 5.2434 - acc: 0.0890\n",
            "Epoch 15/100\n",
            "15462/15462 [==============================] - 19s 1ms/sample - loss: 5.1462 - acc: 0.0964\n",
            "Epoch 16/100\n",
            "15462/15462 [==============================] - 19s 1ms/sample - loss: 5.0444 - acc: 0.1016\n",
            "Epoch 17/100\n",
            "15462/15462 [==============================] - 19s 1ms/sample - loss: 4.9390 - acc: 0.1119\n",
            "Epoch 18/100\n",
            "15462/15462 [==============================] - 19s 1ms/sample - loss: 4.8350 - acc: 0.1197\n",
            "Epoch 19/100\n",
            "15462/15462 [==============================] - 19s 1ms/sample - loss: 4.7386 - acc: 0.1270\n",
            "Epoch 20/100\n",
            "15462/15462 [==============================] - 19s 1ms/sample - loss: 4.6404 - acc: 0.1360\n",
            "Epoch 21/100\n",
            "15462/15462 [==============================] - 19s 1ms/sample - loss: 4.5429 - acc: 0.1466\n",
            "Epoch 22/100\n",
            "15462/15462 [==============================] - 19s 1ms/sample - loss: 4.4416 - acc: 0.1582\n",
            "Epoch 23/100\n",
            "15462/15462 [==============================] - 19s 1ms/sample - loss: 4.3306 - acc: 0.1722\n",
            "Epoch 24/100\n",
            "15462/15462 [==============================] - 19s 1ms/sample - loss: 4.2307 - acc: 0.1801\n",
            "Epoch 25/100\n",
            "15462/15462 [==============================] - 19s 1ms/sample - loss: 4.1306 - acc: 0.1947\n",
            "Epoch 26/100\n",
            "15462/15462 [==============================] - 19s 1ms/sample - loss: 4.0291 - acc: 0.2077\n",
            "Epoch 27/100\n",
            "15462/15462 [==============================] - 19s 1ms/sample - loss: 3.9339 - acc: 0.2227\n",
            "Epoch 28/100\n",
            "15462/15462 [==============================] - 19s 1ms/sample - loss: 3.8292 - acc: 0.2363\n",
            "Epoch 29/100\n",
            "15462/15462 [==============================] - 19s 1ms/sample - loss: 3.7410 - acc: 0.2508\n",
            "Epoch 30/100\n",
            "15462/15462 [==============================] - 19s 1ms/sample - loss: 3.6437 - acc: 0.2708\n",
            "Epoch 31/100\n",
            "15462/15462 [==============================] - 19s 1ms/sample - loss: 3.5483 - acc: 0.2888\n",
            "Epoch 32/100\n",
            "15462/15462 [==============================] - 19s 1ms/sample - loss: 3.4610 - acc: 0.3082\n",
            "Epoch 33/100\n",
            "15462/15462 [==============================] - 19s 1ms/sample - loss: 3.3723 - acc: 0.3231\n",
            "Epoch 34/100\n",
            "15462/15462 [==============================] - 19s 1ms/sample - loss: 3.2926 - acc: 0.3477\n",
            "Epoch 35/100\n",
            "15462/15462 [==============================] - 19s 1ms/sample - loss: 3.2126 - acc: 0.3607\n",
            "Epoch 36/100\n",
            "15462/15462 [==============================] - 19s 1ms/sample - loss: 3.1260 - acc: 0.3812\n",
            "Epoch 37/100\n",
            "15462/15462 [==============================] - 19s 1ms/sample - loss: 3.0542 - acc: 0.4046\n",
            "Epoch 38/100\n",
            "15462/15462 [==============================] - 19s 1ms/sample - loss: 2.9793 - acc: 0.4156\n",
            "Epoch 39/100\n",
            "15462/15462 [==============================] - 19s 1ms/sample - loss: 2.9125 - acc: 0.4307\n",
            "Epoch 40/100\n",
            "15462/15462 [==============================] - 19s 1ms/sample - loss: 2.8615 - acc: 0.4406\n",
            "Epoch 41/100\n",
            "15462/15462 [==============================] - 19s 1ms/sample - loss: 2.7774 - acc: 0.4634\n",
            "Epoch 42/100\n",
            "15462/15462 [==============================] - 19s 1ms/sample - loss: 2.7196 - acc: 0.4751\n",
            "Epoch 43/100\n",
            "15462/15462 [==============================] - 19s 1ms/sample - loss: 2.6478 - acc: 0.4922\n",
            "Epoch 44/100\n",
            "15462/15462 [==============================] - 19s 1ms/sample - loss: 2.5976 - acc: 0.5043\n",
            "Epoch 45/100\n",
            "15462/15462 [==============================] - 19s 1ms/sample - loss: 2.5420 - acc: 0.5155\n",
            "Epoch 46/100\n",
            "15462/15462 [==============================] - 19s 1ms/sample - loss: 2.4830 - acc: 0.5282\n",
            "Epoch 47/100\n",
            "15462/15462 [==============================] - 19s 1ms/sample - loss: 2.4304 - acc: 0.5409\n",
            "Epoch 48/100\n",
            "15462/15462 [==============================] - 18s 1ms/sample - loss: 2.3922 - acc: 0.5512\n",
            "Epoch 49/100\n",
            "15462/15462 [==============================] - 19s 1ms/sample - loss: 2.3313 - acc: 0.5644\n",
            "Epoch 50/100\n",
            "15462/15462 [==============================] - 19s 1ms/sample - loss: 2.2774 - acc: 0.5722\n",
            "Epoch 51/100\n",
            "15462/15462 [==============================] - 19s 1ms/sample - loss: 2.2345 - acc: 0.5831\n",
            "Epoch 52/100\n",
            "15462/15462 [==============================] - 19s 1ms/sample - loss: 2.1910 - acc: 0.5934\n",
            "Epoch 53/100\n",
            "15462/15462 [==============================] - 19s 1ms/sample - loss: 2.1666 - acc: 0.6003\n",
            "Epoch 54/100\n",
            "15462/15462 [==============================] - 19s 1ms/sample - loss: 2.0995 - acc: 0.6160\n",
            "Epoch 55/100\n",
            "15462/15462 [==============================] - 19s 1ms/sample - loss: 2.0406 - acc: 0.6286\n",
            "Epoch 56/100\n",
            "15462/15462 [==============================] - 18s 1ms/sample - loss: 2.0305 - acc: 0.6315\n",
            "Epoch 57/100\n",
            "15462/15462 [==============================] - 19s 1ms/sample - loss: 1.9862 - acc: 0.6387\n",
            "Epoch 58/100\n",
            "15462/15462 [==============================] - 19s 1ms/sample - loss: 1.9376 - acc: 0.6520\n",
            "Epoch 59/100\n",
            "15462/15462 [==============================] - 19s 1ms/sample - loss: 1.9163 - acc: 0.6540\n",
            "Epoch 60/100\n",
            "15462/15462 [==============================] - 18s 1ms/sample - loss: 1.8764 - acc: 0.6617\n",
            "Epoch 61/100\n",
            "15462/15462 [==============================] - 19s 1ms/sample - loss: 1.8448 - acc: 0.6718\n",
            "Epoch 62/100\n",
            "15462/15462 [==============================] - 19s 1ms/sample - loss: 1.8059 - acc: 0.6780\n",
            "Epoch 63/100\n",
            "15462/15462 [==============================] - 19s 1ms/sample - loss: 1.7900 - acc: 0.6792\n",
            "Epoch 64/100\n",
            "15462/15462 [==============================] - 19s 1ms/sample - loss: 1.7550 - acc: 0.6903\n",
            "Epoch 65/100\n",
            "15462/15462 [==============================] - 19s 1ms/sample - loss: 1.7227 - acc: 0.6932\n",
            "Epoch 66/100\n",
            "15462/15462 [==============================] - 19s 1ms/sample - loss: 1.7008 - acc: 0.6997\n",
            "Epoch 67/100\n",
            "15462/15462 [==============================] - 19s 1ms/sample - loss: 1.6711 - acc: 0.7085\n",
            "Epoch 68/100\n",
            "15462/15462 [==============================] - 19s 1ms/sample - loss: 1.6396 - acc: 0.7121\n",
            "Epoch 69/100\n",
            "15462/15462 [==============================] - 19s 1ms/sample - loss: 1.6084 - acc: 0.7192\n",
            "Epoch 70/100\n",
            "15462/15462 [==============================] - 19s 1ms/sample - loss: 1.5972 - acc: 0.7203\n",
            "Epoch 71/100\n",
            "15462/15462 [==============================] - 19s 1ms/sample - loss: 1.5696 - acc: 0.7269\n",
            "Epoch 72/100\n",
            "15462/15462 [==============================] - 19s 1ms/sample - loss: 1.5606 - acc: 0.7289\n",
            "Epoch 73/100\n",
            "15462/15462 [==============================] - 19s 1ms/sample - loss: 1.5362 - acc: 0.7312\n",
            "Epoch 74/100\n",
            "15462/15462 [==============================] - 19s 1ms/sample - loss: 1.5039 - acc: 0.7381\n",
            "Epoch 75/100\n",
            "15462/15462 [==============================] - 19s 1ms/sample - loss: 1.4868 - acc: 0.7429\n",
            "Epoch 76/100\n",
            "15462/15462 [==============================] - 19s 1ms/sample - loss: 1.4751 - acc: 0.7432\n",
            "Epoch 77/100\n",
            "15462/15462 [==============================] - 19s 1ms/sample - loss: 1.4458 - acc: 0.7514\n",
            "Epoch 78/100\n",
            "15462/15462 [==============================] - 19s 1ms/sample - loss: 1.4266 - acc: 0.7549\n",
            "Epoch 79/100\n",
            "15462/15462 [==============================] - 19s 1ms/sample - loss: 1.4061 - acc: 0.7588\n",
            "Epoch 80/100\n",
            "15462/15462 [==============================] - 19s 1ms/sample - loss: 1.3885 - acc: 0.7590\n",
            "Epoch 81/100\n",
            "15462/15462 [==============================] - 19s 1ms/sample - loss: 1.3691 - acc: 0.7657\n",
            "Epoch 82/100\n",
            "15462/15462 [==============================] - 19s 1ms/sample - loss: 1.3641 - acc: 0.7639\n",
            "Epoch 83/100\n",
            "15462/15462 [==============================] - 19s 1ms/sample - loss: 1.3487 - acc: 0.7656\n",
            "Epoch 84/100\n",
            "15462/15462 [==============================] - 19s 1ms/sample - loss: 1.3374 - acc: 0.7716\n",
            "Epoch 85/100\n",
            "15462/15462 [==============================] - 19s 1ms/sample - loss: 1.3160 - acc: 0.7748\n",
            "Epoch 86/100\n",
            "15462/15462 [==============================] - 19s 1ms/sample - loss: 1.2958 - acc: 0.7780\n",
            "Epoch 87/100\n",
            "15462/15462 [==============================] - 19s 1ms/sample - loss: 1.2967 - acc: 0.7742\n",
            "Epoch 88/100\n",
            "15462/15462 [==============================] - 19s 1ms/sample - loss: 1.2878 - acc: 0.7768\n",
            "Epoch 89/100\n",
            "15462/15462 [==============================] - 19s 1ms/sample - loss: 1.2618 - acc: 0.7835\n",
            "Epoch 90/100\n",
            "15462/15462 [==============================] - 19s 1ms/sample - loss: 1.2523 - acc: 0.7844\n",
            "Epoch 91/100\n",
            "15462/15462 [==============================] - 19s 1ms/sample - loss: 1.2360 - acc: 0.7867\n",
            "Epoch 92/100\n",
            "15462/15462 [==============================] - 18s 1ms/sample - loss: 1.2281 - acc: 0.7868\n",
            "Epoch 93/100\n",
            "15462/15462 [==============================] - 19s 1ms/sample - loss: 1.2169 - acc: 0.7910\n",
            "Epoch 94/100\n",
            "15462/15462 [==============================] - 19s 1ms/sample - loss: 1.1918 - acc: 0.7963\n",
            "Epoch 95/100\n",
            "15462/15462 [==============================] - 19s 1ms/sample - loss: 1.1742 - acc: 0.8014\n",
            "Epoch 96/100\n",
            "15462/15462 [==============================] - 19s 1ms/sample - loss: 1.1776 - acc: 0.7971\n",
            "Epoch 97/100\n",
            "15462/15462 [==============================] - 19s 1ms/sample - loss: 1.1746 - acc: 0.7962\n",
            "Epoch 98/100\n",
            "15462/15462 [==============================] - 19s 1ms/sample - loss: 1.1674 - acc: 0.7963\n",
            "Epoch 99/100\n",
            "15462/15462 [==============================] - 19s 1ms/sample - loss: 1.1628 - acc: 0.7969\n",
            "Epoch 100/100\n",
            "15462/15462 [==============================] - 19s 1ms/sample - loss: 1.1395 - acc: 0.8040\n"
          ],
          "name": "stdout"
        }
      ]
    },
    {
      "cell_type": "code",
      "metadata": {
        "id": "1fXTEO3GJ282",
        "colab_type": "code",
        "colab": {
          "base_uri": "https://localhost:8080/",
          "height": 545
        },
        "outputId": "78b0635a-26e7-41b0-b55d-91d1d514132c"
      },
      "source": [
        "import matplotlib.pyplot as plt\n",
        "acc = history.history['acc']\n",
        "loss = history.history['loss']\n",
        "\n",
        "epochs = range(len(acc))\n",
        "\n",
        "plt.plot(epochs, acc, 'b', label='Training accuracy')\n",
        "plt.title('Training accuracy')\n",
        "\n",
        "plt.figure()\n",
        "\n",
        "plt.plot(epochs, loss, 'b', label='Training Loss')\n",
        "plt.title('Training loss')\n",
        "plt.legend()\n",
        "\n",
        "plt.show()"
      ],
      "execution_count": 5,
      "outputs": [
        {
          "output_type": "display_data",
          "data": {
            "image/png": "[encoded data removed]",
            "text/plain": [
              "<Figure size 432x288 with 1 Axes>"
            ]
          },
          "metadata": {
            "tags": []
          }
        },
        {
          "output_type": "display_data",
          "data": {
            "image/png": "[encoded data removed]",
            "text/plain": [
              "<Figure size 432x288 with 1 Axes>"
            ]
          },
          "metadata": {
            "tags": []
          }
        }
      ]
    },
    {
      "cell_type": "code",
      "metadata": {
        "id": "6Vc6PHgxa6Hm",
        "colab_type": "code",
        "colab": {
          "base_uri": "https://localhost:8080/",
          "height": 54
        },
        "outputId": "a5225e8b-6955-478f-bd6a-334759815ff9"
      },
      "source": [
        "seed_text = \"Help me Obi Wan Kenobi, you're my only hope\"\n",
        "next_words = 100\n",
        "  \n",
        "for _ in range(next_words):\n",
        "\ttoken_list = tokenizer.texts_to_sequences([seed_text])[0]\n",
        "\ttoken_list = pad_sequences([token_list], maxlen=max_sequence_len-1, padding='pre')\n",
        "\tpredicted = model.predict_classes(token_list, verbose=0)\n",
        "\toutput_word = \"\"\n",
        "\tfor word, index in tokenizer.word_index.items():\n",
        "\t\tif index == predicted:\n",
        "\t\t\toutput_word = word\n",
        "\t\t\tbreak\n",
        "\tseed_text += \" \" + output_word\n",
        "print(seed_text)"
      ],
      "execution_count": 6,
      "outputs": [
        {
          "output_type": "stream",
          "text": [
            "Help me Obi Wan Kenobi, you're my only hope or bear thine delight fire right rest forth none 'tis woe lie in thee dearer best sad scope here bred light new rare grow mother sad cause new rhyme new report slain lend thee happy down a treasure mother bettering back ill mother deem'd other bow forth forth forth forth you none tend told true men pace young age shows none gather'd desire am much more general grow sad wrong wrong sad treason worn light burn'd light grow ground place leaves delight alone so fears as mine were these due still from thee is my eyes ' to conspire flow\n"
          ],
          "name": "stdout"
        }
      ]
    }
  ]
}