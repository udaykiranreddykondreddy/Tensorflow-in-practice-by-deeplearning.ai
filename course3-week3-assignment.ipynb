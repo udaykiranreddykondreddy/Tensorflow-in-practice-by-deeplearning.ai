{
  "nbformat": 4,
  "nbformat_minor": 0,
  "metadata": {
    "colab": {
      "name": "NLP Course - Week 3 Exercise Question.ipynb",
      "provenance": [],
      "include_colab_link": true
    },
    "kernelspec": {
      "name": "python3",
      "display_name": "Python 3"
    },
    "accelerator": "GPU"
  },
  "cells": [
    {
      "cell_type": "markdown",
      "metadata": {
        "id": "view-in-github",
        "colab_type": "text"
      },
      "source": [
        "<a href=\"https://colab.research.google.com/github/udaykiranreddykondreddy/Tensorflow-in-practice-by-deeplearning.ai/blob/master/course3-week3-assignment.ipynb\" target=\"_parent\"><img src=\"https://colab.research.google.com/assets/colab-badge.svg\" alt=\"Open In Colab\"/></a>"
      ]
    },
    {
      "cell_type": "code",
      "metadata": {
        "id": "hmA6EzkQJ5jt",
        "colab_type": "code",
        "colab": {
          "base_uri": "https://localhost:8080/",
          "height": 63
        },
        "outputId": "c1f3e182-3481-4f38-b7bc-11b3ea12952d"
      },
      "source": [
        "import json\n",
        "import tensorflow as tf\n",
        "import csv\n",
        "import random\n",
        "import numpy as np\n",
        "\n",
        "from tensorflow.keras.preprocessing.text import Tokenizer\n",
        "from tensorflow.keras.preprocessing.sequence import pad_sequences\n",
        "from tensorflow.keras.utils import to_categorical\n",
        "from tensorflow.keras import regularizers\n",
        "\n",
        "\n",
        "embedding_dim = 100\n",
        "max_length = 16\n",
        "trunc_type='post'\n",
        "padding_type='post'\n",
        "oov_tok = \"<OOV>\"\n",
        "training_size=160000\n",
        "test_portion=.1\n",
        "\n",
        "corpus = []\n"
      ],
      "execution_count": 1,
      "outputs": [
        {
          "output_type": "display_data",
          "data": {
            "text/html": [
              "<p style=\"color: red;\">\n",
              "The default version of TensorFlow in Colab will soon switch to TensorFlow 2.x.<br>\n",
              "We recommend you <a href=\"https://www.tensorflow.org/guide/migrate\" target=\"_blank\">upgrade</a> now \n",
              "or ensure your notebook will continue to use TensorFlow 1.x via the <code>%tensorflow_version 1.x</code> magic:\n",
              "<a href=\"https://colab.research.google.com/notebooks/tensorflow_version.ipynb\" target=\"_blank\">more info</a>.</p>\n"
            ],
            "text/plain": [
              "<IPython.core.display.HTML object>"
            ]
          },
          "metadata": {
            "tags": []
          }
        }
      ]
    },
    {
      "cell_type": "code",
      "metadata": {
        "id": "bM0l_dORKqE0",
        "colab_type": "code",
        "outputId": "c837556b-3756-459c-ac00-a99b8f64e7ce",
        "colab": {
          "base_uri": "https://localhost:8080/",
          "height": 204
        }
      },
      "source": [
        "\n",
        "# Note that I cleaned the Stanford dataset to remove LATIN1 encoding to make it easier for Python CSV reader\n",
        "# You can do that yourself with:\n",
        "# iconv -f LATIN1 -t UTF8 training.1600000.processed.noemoticon.csv -o training_cleaned.csv\n",
        "# I then hosted it on my site to make it easier to use in this notebook\n",
        "\n",
        "!wget --no-check-certificate \\\n",
        "    https://storage.googleapis.com/laurencemoroney-blog.appspot.com/training_cleaned.csv \\\n",
        "    -O /tmp/training_cleaned.csv\n",
        "\n",
        "num_sentences = 0\n",
        "\n",
        "with open(\"/tmp/training_cleaned.csv\") as csvfile:\n",
        "    reader = csv.reader(csvfile, delimiter=',')\n",
        "    for row in reader:\n",
        "        list_item=[]\n",
        "        list_item.append(row[5])\n",
        "        this_label=row[0]\n",
        "        if this_label=='0':\n",
        "            list_item.append(0)\n",
        "        else:\n",
        "            list_item.append(1)\n",
        "        num_sentences = num_sentences + 1\n",
        "        corpus.append(list_item)\n",
        "\n",
        "\n"
      ],
      "execution_count": 2,
      "outputs": [
        {
          "output_type": "stream",
          "text": [
            "--2019-12-06 10:45:45--  https://storage.googleapis.com/laurencemoroney-blog.appspot.com/training_cleaned.csv\n",
            "Resolving storage.googleapis.com (storage.googleapis.com)... 216.58.217.208, 2607:f8b0:4007:80d::2010\n",
            "Connecting to storage.googleapis.com (storage.googleapis.com)|216.58.217.208|:443... connected.\n",
            "HTTP request sent, awaiting response... 200 OK\n",
            "Length: 238942690 (228M) [application/octet-stream]\n",
            "Saving to: ‘/tmp/training_cleaned.csv’\n",
            "\n",
            "/tmp/training_clean 100%[===================>] 227.87M   137MB/s    in 1.7s    \n",
            "\n",
            "2019-12-06 10:45:48 (137 MB/s) - ‘/tmp/training_cleaned.csv’ saved [238942690/238942690]\n",
            "\n"
          ],
          "name": "stdout"
        }
      ]
    },
    {
      "cell_type": "code",
      "metadata": {
        "id": "3kxblBUjEUX-",
        "colab_type": "code",
        "outputId": "aa536e90-80c0-4841-fa94-ac2084e4e6b4",
        "colab": {
          "base_uri": "https://localhost:8080/",
          "height": 68
        }
      },
      "source": [
        "print(num_sentences)\n",
        "print(len(corpus))\n",
        "print(corpus[1])\n",
        "\n",
        "# Expected Output:\n",
        "# 1600000\n",
        "# 1600000\n",
        "# [\"is upset that he can't update his Facebook by texting it... and might cry as a result  School today also. Blah!\", 0]"
      ],
      "execution_count": 3,
      "outputs": [
        {
          "output_type": "stream",
          "text": [
            "1600000\n",
            "1600000\n",
            "[\"is upset that he can't update his Facebook by texting it... and might cry as a result  School today also. Blah!\", 0]\n"
          ],
          "name": "stdout"
        }
      ]
    },
    {
      "cell_type": "code",
      "metadata": {
        "id": "ohOGz24lsNAD",
        "colab_type": "code",
        "colab": {}
      },
      "source": [
        "sentences=[]\n",
        "labels=[]\n",
        "random.shuffle(corpus)\n",
        "for x in range(training_size):\n",
        "    sentences.append(corpus[x][0])\n",
        "    labels.append(corpus[x][1])\n",
        "\n",
        "\n",
        "tokenizer = Tokenizer()\n",
        "tokenizer.fit_on_texts(sentences)\n",
        "\n",
        "word_index = tokenizer.word_index\n",
        "vocab_size=len(word_index)\n",
        "\n",
        "sequences = tokenizer.texts_to_sequences(sentences)\n",
        "padded = pad_sequences(sequences, maxlen=max_length, padding=padding_type, truncating=trunc_type)\n",
        "\n",
        "split = int(test_portion * training_size)\n",
        "\n",
        "test_sequences = padded[0:split]\n",
        "training_sequences = padded[split:training_size]\n",
        "test_labels = labels[0:split]\n",
        "training_labels = labels[split:training_size]"
      ],
      "execution_count": 0,
      "outputs": []
    },
    {
      "cell_type": "code",
      "metadata": {
        "id": "gIrtRem1En3N",
        "colab_type": "code",
        "outputId": "d0f17cd4-eb5c-420d-e410-d86c5141a709",
        "colab": {
          "base_uri": "https://localhost:8080/",
          "height": 51
        }
      },
      "source": [
        "print(vocab_size)\n",
        "print(word_index['i'])\n",
        "# Expected Output\n",
        "# 138858\n",
        "# 1"
      ],
      "execution_count": 5,
      "outputs": [
        {
          "output_type": "stream",
          "text": [
            "138485\n",
            "1\n"
          ],
          "name": "stdout"
        }
      ]
    },
    {
      "cell_type": "code",
      "metadata": {
        "id": "C1zdgJkusRh0",
        "colab_type": "code",
        "outputId": "1cf77ab3-84c1-497c-cfcb-9f9a2ebd1312",
        "colab": {
          "base_uri": "https://localhost:8080/",
          "height": 204
        }
      },
      "source": [
        "# Note this is the 100 dimension version of GloVe from Stanford\n",
        "# I unzipped and hosted it on my site to make this notebook easier\n",
        "!wget --no-check-certificate \\\n",
        "    https://storage.googleapis.com/laurencemoroney-blog.appspot.com/glove.6B.100d.txt \\\n",
        "    -O /tmp/glove.6B.100d.txt\n",
        "embeddings_index = {};\n",
        "with open('/tmp/glove.6B.100d.txt') as f:\n",
        "    for line in f:\n",
        "        values = line.split();\n",
        "        word = values[0];\n",
        "        coefs = np.asarray(values[1:], dtype='float32');\n",
        "        embeddings_index[word] = coefs;\n",
        "\n",
        "embeddings_matrix = np.zeros((vocab_size+1, embedding_dim));\n",
        "for word, i in word_index.items():\n",
        "    embedding_vector = embeddings_index.get(word);\n",
        "    if embedding_vector is not None:\n",
        "        embeddings_matrix[i] = embedding_vector;"
      ],
      "execution_count": 6,
      "outputs": [
        {
          "output_type": "stream",
          "text": [
            "--2019-12-06 10:46:21--  https://storage.googleapis.com/laurencemoroney-blog.appspot.com/glove.6B.100d.txt\n",
            "Resolving storage.googleapis.com (storage.googleapis.com)... 216.58.217.208, 2607:f8b0:4007:80d::2010\n",
            "Connecting to storage.googleapis.com (storage.googleapis.com)|216.58.217.208|:443... connected.\n",
            "HTTP request sent, awaiting response... 200 OK\n",
            "Length: 347116733 (331M) [text/plain]\n",
            "Saving to: ‘/tmp/glove.6B.100d.txt’\n",
            "\n",
            "/tmp/glove.6B.100d. 100%[===================>] 331.04M   131MB/s    in 2.5s    \n",
            "\n",
            "2019-12-06 10:46:24 (131 MB/s) - ‘/tmp/glove.6B.100d.txt’ saved [347116733/347116733]\n",
            "\n"
          ],
          "name": "stdout"
        }
      ]
    },
    {
      "cell_type": "code",
      "metadata": {
        "id": "71NLk_lpFLNt",
        "colab_type": "code",
        "outputId": "177dc54d-acaf-4211-c136-7f3a009eab69",
        "colab": {
          "base_uri": "https://localhost:8080/",
          "height": 34
        }
      },
      "source": [
        "print(len(embeddings_matrix))\n",
        "# Expected Output\n",
        "# 138859"
      ],
      "execution_count": 7,
      "outputs": [
        {
          "output_type": "stream",
          "text": [
            "138486\n"
          ],
          "name": "stdout"
        }
      ]
    },
    {
      "cell_type": "code",
      "metadata": {
        "colab_type": "code",
        "id": "iKKvbuEBOGFz",
        "colab": {
          "base_uri": "https://localhost:8080/",
          "height": 1000
        },
        "outputId": "daf74c4c-4fdb-40e9-af21-65c4135c1604"
      },
      "source": [
        "model = tf.keras.Sequential([\n",
        "    tf.keras.layers.Embedding(vocab_size+1, embedding_dim, input_length=max_length, weights=[embeddings_matrix], trainable=False),\n",
        "    tf.keras.layers.Dropout(0.2),\n",
        "    tf.keras.layers.Conv1D(64, 5, activation='relu'),\n",
        "    tf.keras.layers.MaxPooling1D(pool_size=4),\n",
        "    tf.keras.layers.LSTM(64),\n",
        "    tf.keras.layers.Dense(1, activation='sigmoid')\n",
        "])\n",
        "model.compile(loss='binary_crossentropy',optimizer='adam',metrics=['accuracy'])\n",
        "model.summary()\n",
        "\n",
        "num_epochs = 50\n",
        "history = model.fit(training_sequences, training_labels, epochs=num_epochs, validation_data=(test_sequences, test_labels), verbose=2)\n",
        "\n",
        "print(\"Training Complete\")\n"
      ],
      "execution_count": 8,
      "outputs": [
        {
          "output_type": "stream",
          "text": [
            "WARNING:tensorflow:From /usr/local/lib/python3.6/dist-packages/tensorflow_core/python/keras/initializers.py:119: calling RandomUniform.__init__ (from tensorflow.python.ops.init_ops) with dtype is deprecated and will be removed in a future version.\n",
            "Instructions for updating:\n",
            "Call initializer instance with the dtype argument instead of passing it to the constructor\n",
            "WARNING:tensorflow:From /usr/local/lib/python3.6/dist-packages/tensorflow_core/python/ops/resource_variable_ops.py:1630: calling BaseResourceVariable.__init__ (from tensorflow.python.ops.resource_variable_ops) with constraint is deprecated and will be removed in a future version.\n",
            "Instructions for updating:\n",
            "If using Keras pass *_constraint arguments to layers.\n",
            "WARNING:tensorflow:From /usr/local/lib/python3.6/dist-packages/tensorflow_core/python/ops/nn_impl.py:183: where (from tensorflow.python.ops.array_ops) is deprecated and will be removed in a future version.\n",
            "Instructions for updating:\n",
            "Use tf.where in 2.0, which has the same broadcast rule as np.where\n",
            "Model: \"sequential\"\n",
            "_________________________________________________________________\n",
            "Layer (type)                 Output Shape              Param #   \n",
            "=================================================================\n",
            "embedding (Embedding)        (None, 16, 100)           13848600  \n",
            "_________________________________________________________________\n",
            "dropout (Dropout)            (None, 16, 100)           0         \n",
            "_________________________________________________________________\n",
            "conv1d (Conv1D)              (None, 12, 64)            32064     \n",
            "_________________________________________________________________\n",
            "max_pooling1d (MaxPooling1D) (None, 3, 64)             0         \n",
            "_________________________________________________________________\n",
            "lstm (LSTM)                  (None, 64)                33024     \n",
            "_________________________________________________________________\n",
            "dense (Dense)                (None, 1)                 65        \n",
            "=================================================================\n",
            "Total params: 13,913,753\n",
            "Trainable params: 65,153\n",
            "Non-trainable params: 13,848,600\n",
            "_________________________________________________________________\n",
            "Train on 144000 samples, validate on 16000 samples\n",
            "Epoch 1/50\n",
            "144000/144000 - 40s - loss: 0.5652 - acc: 0.7007 - val_loss: 0.5230 - val_acc: 0.7368\n",
            "Epoch 2/50\n",
            "144000/144000 - 37s - loss: 0.5247 - acc: 0.7330 - val_loss: 0.5322 - val_acc: 0.7257\n",
            "Epoch 3/50\n",
            "144000/144000 - 37s - loss: 0.5079 - acc: 0.7452 - val_loss: 0.5068 - val_acc: 0.7464\n",
            "Epoch 4/50\n",
            "144000/144000 - 36s - loss: 0.4976 - acc: 0.7533 - val_loss: 0.5036 - val_acc: 0.7494\n",
            "Epoch 5/50\n",
            "144000/144000 - 35s - loss: 0.4889 - acc: 0.7598 - val_loss: 0.4994 - val_acc: 0.7551\n",
            "Epoch 6/50\n",
            "144000/144000 - 35s - loss: 0.4821 - acc: 0.7636 - val_loss: 0.5018 - val_acc: 0.7528\n",
            "Epoch 7/50\n",
            "144000/144000 - 34s - loss: 0.4760 - acc: 0.7671 - val_loss: 0.5033 - val_acc: 0.7566\n",
            "Epoch 8/50\n",
            "144000/144000 - 35s - loss: 0.4706 - acc: 0.7702 - val_loss: 0.5031 - val_acc: 0.7510\n",
            "Epoch 9/50\n",
            "144000/144000 - 35s - loss: 0.4663 - acc: 0.7729 - val_loss: 0.5087 - val_acc: 0.7523\n",
            "Epoch 10/50\n",
            "144000/144000 - 35s - loss: 0.4622 - acc: 0.7751 - val_loss: 0.5073 - val_acc: 0.7487\n",
            "Epoch 11/50\n",
            "144000/144000 - 35s - loss: 0.4598 - acc: 0.7778 - val_loss: 0.5029 - val_acc: 0.7527\n",
            "Epoch 12/50\n",
            "144000/144000 - 34s - loss: 0.4560 - acc: 0.7789 - val_loss: 0.5133 - val_acc: 0.7489\n",
            "Epoch 13/50\n",
            "144000/144000 - 34s - loss: 0.4545 - acc: 0.7798 - val_loss: 0.5106 - val_acc: 0.7504\n",
            "Epoch 14/50\n",
            "144000/144000 - 34s - loss: 0.4518 - acc: 0.7818 - val_loss: 0.5031 - val_acc: 0.7548\n",
            "Epoch 15/50\n",
            "144000/144000 - 35s - loss: 0.4497 - acc: 0.7834 - val_loss: 0.5078 - val_acc: 0.7519\n",
            "Epoch 16/50\n",
            "144000/144000 - 35s - loss: 0.4475 - acc: 0.7854 - val_loss: 0.5116 - val_acc: 0.7523\n",
            "Epoch 17/50\n",
            "144000/144000 - 34s - loss: 0.4450 - acc: 0.7861 - val_loss: 0.5122 - val_acc: 0.7526\n",
            "Epoch 18/50\n",
            "144000/144000 - 34s - loss: 0.4447 - acc: 0.7871 - val_loss: 0.5124 - val_acc: 0.7501\n",
            "Epoch 19/50\n",
            "144000/144000 - 35s - loss: 0.4423 - acc: 0.7872 - val_loss: 0.5186 - val_acc: 0.7526\n",
            "Epoch 20/50\n",
            "144000/144000 - 35s - loss: 0.4408 - acc: 0.7894 - val_loss: 0.5195 - val_acc: 0.7464\n",
            "Epoch 21/50\n",
            "144000/144000 - 35s - loss: 0.4406 - acc: 0.7889 - val_loss: 0.5152 - val_acc: 0.7519\n",
            "Epoch 22/50\n",
            "144000/144000 - 34s - loss: 0.4387 - acc: 0.7894 - val_loss: 0.5186 - val_acc: 0.7461\n",
            "Epoch 23/50\n",
            "144000/144000 - 35s - loss: 0.4394 - acc: 0.7897 - val_loss: 0.5150 - val_acc: 0.7498\n",
            "Epoch 24/50\n",
            "144000/144000 - 35s - loss: 0.4370 - acc: 0.7905 - val_loss: 0.5154 - val_acc: 0.7501\n",
            "Epoch 25/50\n",
            "144000/144000 - 35s - loss: 0.4356 - acc: 0.7917 - val_loss: 0.5170 - val_acc: 0.7504\n",
            "Epoch 26/50\n",
            "144000/144000 - 34s - loss: 0.4366 - acc: 0.7913 - val_loss: 0.5193 - val_acc: 0.7525\n",
            "Epoch 27/50\n",
            "144000/144000 - 35s - loss: 0.4348 - acc: 0.7922 - val_loss: 0.5201 - val_acc: 0.7500\n",
            "Epoch 28/50\n",
            "144000/144000 - 33s - loss: 0.4332 - acc: 0.7939 - val_loss: 0.5144 - val_acc: 0.7500\n",
            "Epoch 29/50\n",
            "144000/144000 - 34s - loss: 0.4325 - acc: 0.7942 - val_loss: 0.5223 - val_acc: 0.7494\n",
            "Epoch 30/50\n",
            "144000/144000 - 34s - loss: 0.4316 - acc: 0.7936 - val_loss: 0.5246 - val_acc: 0.7473\n",
            "Epoch 31/50\n",
            "144000/144000 - 34s - loss: 0.4336 - acc: 0.7924 - val_loss: 0.5169 - val_acc: 0.7513\n",
            "Epoch 32/50\n",
            "144000/144000 - 34s - loss: 0.4315 - acc: 0.7947 - val_loss: 0.5148 - val_acc: 0.7501\n",
            "Epoch 33/50\n",
            "144000/144000 - 34s - loss: 0.4312 - acc: 0.7951 - val_loss: 0.5165 - val_acc: 0.7498\n",
            "Epoch 34/50\n",
            "144000/144000 - 34s - loss: 0.4301 - acc: 0.7956 - val_loss: 0.5151 - val_acc: 0.7479\n",
            "Epoch 35/50\n",
            "144000/144000 - 34s - loss: 0.4312 - acc: 0.7942 - val_loss: 0.5171 - val_acc: 0.7492\n",
            "Epoch 36/50\n",
            "144000/144000 - 34s - loss: 0.4296 - acc: 0.7950 - val_loss: 0.5205 - val_acc: 0.7500\n",
            "Epoch 37/50\n",
            "144000/144000 - 34s - loss: 0.4289 - acc: 0.7968 - val_loss: 0.5165 - val_acc: 0.7476\n",
            "Epoch 38/50\n",
            "144000/144000 - 34s - loss: 0.4303 - acc: 0.7953 - val_loss: 0.5222 - val_acc: 0.7491\n",
            "Epoch 39/50\n",
            "144000/144000 - 34s - loss: 0.4284 - acc: 0.7960 - val_loss: 0.5232 - val_acc: 0.7495\n",
            "Epoch 40/50\n",
            "144000/144000 - 33s - loss: 0.4277 - acc: 0.7964 - val_loss: 0.5141 - val_acc: 0.7484\n",
            "Epoch 41/50\n",
            "144000/144000 - 34s - loss: 0.4286 - acc: 0.7957 - val_loss: 0.5191 - val_acc: 0.7506\n",
            "Epoch 42/50\n",
            "144000/144000 - 34s - loss: 0.4274 - acc: 0.7982 - val_loss: 0.5243 - val_acc: 0.7441\n",
            "Epoch 43/50\n",
            "144000/144000 - 34s - loss: 0.4274 - acc: 0.7970 - val_loss: 0.5265 - val_acc: 0.7498\n",
            "Epoch 44/50\n",
            "144000/144000 - 34s - loss: 0.4278 - acc: 0.7970 - val_loss: 0.5196 - val_acc: 0.7487\n",
            "Epoch 45/50\n",
            "144000/144000 - 34s - loss: 0.4274 - acc: 0.7969 - val_loss: 0.5230 - val_acc: 0.7456\n",
            "Epoch 46/50\n",
            "144000/144000 - 34s - loss: 0.4286 - acc: 0.7970 - val_loss: 0.5312 - val_acc: 0.7476\n",
            "Epoch 47/50\n",
            "144000/144000 - 34s - loss: 0.4277 - acc: 0.7963 - val_loss: 0.5237 - val_acc: 0.7508\n",
            "Epoch 48/50\n",
            "144000/144000 - 34s - loss: 0.4266 - acc: 0.7971 - val_loss: 0.5247 - val_acc: 0.7467\n",
            "Epoch 49/50\n",
            "144000/144000 - 35s - loss: 0.4260 - acc: 0.7975 - val_loss: 0.5250 - val_acc: 0.7456\n",
            "Epoch 50/50\n",
            "144000/144000 - 35s - loss: 0.4262 - acc: 0.7976 - val_loss: 0.5189 - val_acc: 0.7476\n",
            "Training Complete\n"
          ],
          "name": "stdout"
        }
      ]
    },
    {
      "cell_type": "code",
      "metadata": {
        "id": "qxju4ItJKO8F",
        "colab_type": "code",
        "colab": {
          "base_uri": "https://localhost:8080/",
          "height": 607
        },
        "outputId": "39374e07-e37e-4980-e628-6998ce2b88ff"
      },
      "source": [
        "import matplotlib.image  as mpimg\n",
        "import matplotlib.pyplot as plt\n",
        "\n",
        "#-----------------------------------------------------------\n",
        "# Retrieve a list of list results on training and test data\n",
        "# sets for each training epoch\n",
        "#-----------------------------------------------------------\n",
        "acc=history.history['acc']\n",
        "val_acc=history.history['val_acc']\n",
        "loss=history.history['loss']\n",
        "val_loss=history.history['val_loss']\n",
        "\n",
        "epochs=range(len(acc)) # Get number of epochs\n",
        "\n",
        "#------------------------------------------------\n",
        "# Plot training and validation accuracy per epoch\n",
        "#------------------------------------------------\n",
        "plt.plot(epochs, acc, 'r')\n",
        "plt.plot(epochs, val_acc, 'b')\n",
        "plt.title('Training and validation accuracy')\n",
        "plt.xlabel(\"Epochs\")\n",
        "plt.ylabel(\"Accuracy\")\n",
        "plt.legend([\"Accuracy\", \"Validation Accuracy\"])\n",
        "\n",
        "plt.figure()\n",
        "\n",
        "#------------------------------------------------\n",
        "# Plot training and validation loss per epoch\n",
        "#------------------------------------------------\n",
        "plt.plot(epochs, loss, 'r')\n",
        "plt.plot(epochs, val_loss, 'b')\n",
        "plt.title('Training and validation loss')\n",
        "plt.xlabel(\"Epochs\")\n",
        "plt.ylabel(\"Loss\")\n",
        "plt.legend([\"Loss\", \"Validation Loss\"])\n",
        "\n",
        "plt.figure()\n",
        "\n",
        "\n",
        "# Expected Output\n",
        "# A chart where the validation loss does not increase sharply!"
      ],
      "execution_count": 9,
      "outputs": [
        {
          "output_type": "execute_result",
          "data": {
            "text/plain": [
              "<Figure size 432x288 with 0 Axes>"
            ]
          },
          "metadata": {
            "tags": []
          },
          "execution_count": 9
        },
        {
          "output_type": "display_data",
          "data": {
            "image/png": "[encoded data removed]",
            "text/plain": [
              "<Figure size 432x288 with 1 Axes>"
            ]
          },
          "metadata": {
            "tags": []
          }
        },
        {
          "output_type": "display_data",
          "data": {
            "image/png": "[encoded data removed]",
            "text/plain": [
              "<Figure size 432x288 with 1 Axes>"
            ]
          },
          "metadata": {
            "tags": []
          }
        },
        {
          "output_type": "display_data",
          "data": {
            "text/plain": [
              "<Figure size 432x288 with 0 Axes>"
            ]
          },
          "metadata": {
            "tags": []
          }
        }
      ]
    }
  ]
}